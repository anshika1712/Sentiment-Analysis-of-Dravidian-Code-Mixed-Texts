{
  "nbformat": 4,
  "nbformat_minor": 0,
  "metadata": {
    "colab": {
      "provenance": [],
      "authorship_tag": "ABX9TyM6XigDZojBpPKxDUshMYTL",
      "include_colab_link": true
    },
    "kernelspec": {
      "name": "python3",
      "display_name": "Python 3"
    },
    "language_info": {
      "name": "python"
    }
  },
  "cells": [
    {
      "cell_type": "markdown",
      "metadata": {
        "id": "view-in-github",
        "colab_type": "text"
      },
      "source": [
        "<a href=\"https://colab.research.google.com/github/anshika1712/Sentiment-Analysis-of-Dravidian-Code-Mixed-Texts/blob/main/TaskA_BasicPreprocessing.ipynb\" target=\"_parent\"><img src=\"https://colab.research.google.com/assets/colab-badge.svg\" alt=\"Open In Colab\"/></a>"
      ]
    },
    {
      "cell_type": "code",
      "execution_count": 1,
      "metadata": {
        "id": "2NAUDC2kE-My"
      },
      "outputs": [],
      "source": [
        "#Importing Libraries\n",
        "import pandas as pd\n",
        "import numpy as np"
      ]
    },
    {
      "cell_type": "code",
      "source": [
        "!gdown --id 1hOSe03tqqgnCLLW-t_W1SMvW-WtBuV_j                 #Data"
      ],
      "metadata": {
        "colab": {
          "base_uri": "https://localhost:8080/"
        },
        "id": "iV0ePrfwTrbA",
        "outputId": "f91a5abb-8a1a-4036-e3e3-cf8998c01d93"
      },
      "execution_count": null,
      "outputs": [
        {
          "output_type": "stream",
          "name": "stdout",
          "text": [
            "/usr/local/lib/python3.10/dist-packages/gdown/cli.py:121: FutureWarning: Option `--id` was deprecated in version 4.3.1 and will be removed in 5.0. You don't need to pass it anymore to use a file ID.\n",
            "  warnings.warn(\n",
            "Downloading...\n",
            "From: https://drive.google.com/uc?id=1hOSe03tqqgnCLLW-t_W1SMvW-WtBuV_j\n",
            "To: /content/correct_Tam_train.csv\n",
            "100% 21.8M/21.8M [00:00<00:00, 150MB/s]\n"
          ]
        }
      ]
    },
    {
      "cell_type": "code",
      "source": [
        "from google.colab import drive\n",
        "drive.mount('/content/drive')"
      ],
      "metadata": {
        "id": "g7SXuWdTx5YN"
      },
      "execution_count": null,
      "outputs": []
    },
    {
      "cell_type": "code",
      "source": [
        "#Reading the training dataset\n",
        "train_data=pd.read_csv('/content/Kan_Train_Dataset_1.csv')"
      ],
      "metadata": {
        "id": "35Rdw5dbFqiT"
      },
      "execution_count": null,
      "outputs": []
    },
    {
      "cell_type": "code",
      "source": [
        "data= pd. read_csv(\"/content/correct_Tam_train.csv\")"
      ],
      "metadata": {
        "id": "Vme45O_M-jTp"
      },
      "execution_count": null,
      "outputs": []
    },
    {
      "cell_type": "code",
      "source": [
        "#Reading the testing dataset\n",
        "test_data=pd.read_csv('/content/Kan_Test_Dataset_1.csv')"
      ],
      "metadata": {
        "id": "T_w41jc6FuiS"
      },
      "execution_count": null,
      "outputs": []
    },
    {
      "cell_type": "code",
      "source": [
        "#Reading the validation dataset\n",
        "val_data=pd.read_csv('/content/Kan_Dev_Dataset_1.csv')"
      ],
      "metadata": {
        "id": "Ju5sdeOYFwz4"
      },
      "execution_count": null,
      "outputs": []
    },
    {
      "cell_type": "code",
      "source": [
        "data.head()"
      ],
      "metadata": {
        "id": "KXnOBvYzFy3f",
        "colab": {
          "base_uri": "https://localhost:8080/",
          "height": 310
        },
        "outputId": "0c55e1d6-aee7-4bbc-88af-37acdf158f9c"
      },
      "execution_count": null,
      "outputs": [
        {
          "output_type": "execute_result",
          "data": {
            "text/plain": [
              "   Unnamed: 0.1  Unnamed: 0  \\\n",
              "0             0           0   \n",
              "1             1           1   \n",
              "2             2           2   \n",
              "3             3           3   \n",
              "4             4           4   \n",
              "\n",
              "                                                text       category  \\\n",
              "0  Vani bhojam fans hit like solli 500 like Vangi...  unknown_state   \n",
              "1                       I love you ajith very I like       Positive   \n",
              "2  ennaya trailer Ku mudi Ellam nikkudhu... Vera ...       Positive   \n",
              "3           Vijay Annaa  Ur Maassssss Therrrrriiiiii       Positive   \n",
              "4                        நம்ப நடே நாசாமா தான் போச்சி       Negative   \n",
              "\n",
              "                                          clean_text  \\\n",
              "0  Vani bhojam fans hit like solli like Vangida V...   \n",
              "1                       I love you ajith very I like   \n",
              "2  ennaya trailer Ku mudi Ellam nikkudhu Vera lev...   \n",
              "3                       Vijay Annaa Ur Maass Therrii   \n",
              "4                        நம்ப நடே நாசாமா தான் போச்சி   \n",
              "\n",
              "                                      tokenized_text  \\\n",
              "0  ['Vani', 'bhojam', 'fans', 'hit', 'like', 'sol...   \n",
              "1  ['I', 'love', 'you', 'ajith', 'very', 'I', 'li...   \n",
              "2  ['ennaya', 'trailer', 'Ku', 'mudi', 'Ellam', '...   \n",
              "3       ['Vijay', 'Annaa', 'Ur', 'Maass', 'Therrii']   \n",
              "4        ['நம்ப', 'நடே', 'நாசாமா', 'தான்', 'போச்சி']   \n",
              "\n",
              "                                            LID list  \n",
              "0  [['Vani', 'hi'], ['bhojam', 'Unknown'], ['fans...  \n",
              "1  [['I', 'en'], ['love', 'en'], ['you', 'en'], [...  \n",
              "2  [['ennaya', 'ta'], ['trailer', 'en'], ['Ku', '...  \n",
              "3  [['Vijay', 'en'], ['Annaa', 'Unknown'], ['Ur',...  \n",
              "4  [['நம்ப', 'ta'], ['நடே', 'ta'], ['நாசாமா', 'ta...  "
            ],
            "text/html": [
              "\n",
              "  <div id=\"df-7fab8656-8021-491b-ade6-030e70138ac8\" class=\"colab-df-container\">\n",
              "    <div>\n",
              "<style scoped>\n",
              "    .dataframe tbody tr th:only-of-type {\n",
              "        vertical-align: middle;\n",
              "    }\n",
              "\n",
              "    .dataframe tbody tr th {\n",
              "        vertical-align: top;\n",
              "    }\n",
              "\n",
              "    .dataframe thead th {\n",
              "        text-align: right;\n",
              "    }\n",
              "</style>\n",
              "<table border=\"1\" class=\"dataframe\">\n",
              "  <thead>\n",
              "    <tr style=\"text-align: right;\">\n",
              "      <th></th>\n",
              "      <th>Unnamed: 0.1</th>\n",
              "      <th>Unnamed: 0</th>\n",
              "      <th>text</th>\n",
              "      <th>category</th>\n",
              "      <th>clean_text</th>\n",
              "      <th>tokenized_text</th>\n",
              "      <th>LID list</th>\n",
              "    </tr>\n",
              "  </thead>\n",
              "  <tbody>\n",
              "    <tr>\n",
              "      <th>0</th>\n",
              "      <td>0</td>\n",
              "      <td>0</td>\n",
              "      <td>Vani bhojam fans hit like solli 500 like Vangi...</td>\n",
              "      <td>unknown_state</td>\n",
              "      <td>Vani bhojam fans hit like solli like Vangida V...</td>\n",
              "      <td>['Vani', 'bhojam', 'fans', 'hit', 'like', 'sol...</td>\n",
              "      <td>[['Vani', 'hi'], ['bhojam', 'Unknown'], ['fans...</td>\n",
              "    </tr>\n",
              "    <tr>\n",
              "      <th>1</th>\n",
              "      <td>1</td>\n",
              "      <td>1</td>\n",
              "      <td>I love you ajith very I like</td>\n",
              "      <td>Positive</td>\n",
              "      <td>I love you ajith very I like</td>\n",
              "      <td>['I', 'love', 'you', 'ajith', 'very', 'I', 'li...</td>\n",
              "      <td>[['I', 'en'], ['love', 'en'], ['you', 'en'], [...</td>\n",
              "    </tr>\n",
              "    <tr>\n",
              "      <th>2</th>\n",
              "      <td>2</td>\n",
              "      <td>2</td>\n",
              "      <td>ennaya trailer Ku mudi Ellam nikkudhu... Vera ...</td>\n",
              "      <td>Positive</td>\n",
              "      <td>ennaya trailer Ku mudi Ellam nikkudhu Vera lev...</td>\n",
              "      <td>['ennaya', 'trailer', 'Ku', 'mudi', 'Ellam', '...</td>\n",
              "      <td>[['ennaya', 'ta'], ['trailer', 'en'], ['Ku', '...</td>\n",
              "    </tr>\n",
              "    <tr>\n",
              "      <th>3</th>\n",
              "      <td>3</td>\n",
              "      <td>3</td>\n",
              "      <td>Vijay Annaa  Ur Maassssss Therrrrriiiiii</td>\n",
              "      <td>Positive</td>\n",
              "      <td>Vijay Annaa Ur Maass Therrii</td>\n",
              "      <td>['Vijay', 'Annaa', 'Ur', 'Maass', 'Therrii']</td>\n",
              "      <td>[['Vijay', 'en'], ['Annaa', 'Unknown'], ['Ur',...</td>\n",
              "    </tr>\n",
              "    <tr>\n",
              "      <th>4</th>\n",
              "      <td>4</td>\n",
              "      <td>4</td>\n",
              "      <td>நம்ப நடே நாசாமா தான் போச்சி</td>\n",
              "      <td>Negative</td>\n",
              "      <td>நம்ப நடே நாசாமா தான் போச்சி</td>\n",
              "      <td>['நம்ப', 'நடே', 'நாசாமா', 'தான்', 'போச்சி']</td>\n",
              "      <td>[['நம்ப', 'ta'], ['நடே', 'ta'], ['நாசாமா', 'ta...</td>\n",
              "    </tr>\n",
              "  </tbody>\n",
              "</table>\n",
              "</div>\n",
              "    <div class=\"colab-df-buttons\">\n",
              "\n",
              "  <div class=\"colab-df-container\">\n",
              "    <button class=\"colab-df-convert\" onclick=\"convertToInteractive('df-7fab8656-8021-491b-ade6-030e70138ac8')\"\n",
              "            title=\"Convert this dataframe to an interactive table.\"\n",
              "            style=\"display:none;\">\n",
              "\n",
              "  <svg xmlns=\"http://www.w3.org/2000/svg\" height=\"24px\" viewBox=\"0 -960 960 960\">\n",
              "    <path d=\"M120-120v-720h720v720H120Zm60-500h600v-160H180v160Zm220 220h160v-160H400v160Zm0 220h160v-160H400v160ZM180-400h160v-160H180v160Zm440 0h160v-160H620v160ZM180-180h160v-160H180v160Zm440 0h160v-160H620v160Z\"/>\n",
              "  </svg>\n",
              "    </button>\n",
              "\n",
              "  <style>\n",
              "    .colab-df-container {\n",
              "      display:flex;\n",
              "      gap: 12px;\n",
              "    }\n",
              "\n",
              "    .colab-df-convert {\n",
              "      background-color: #E8F0FE;\n",
              "      border: none;\n",
              "      border-radius: 50%;\n",
              "      cursor: pointer;\n",
              "      display: none;\n",
              "      fill: #1967D2;\n",
              "      height: 32px;\n",
              "      padding: 0 0 0 0;\n",
              "      width: 32px;\n",
              "    }\n",
              "\n",
              "    .colab-df-convert:hover {\n",
              "      background-color: #E2EBFA;\n",
              "      box-shadow: 0px 1px 2px rgba(60, 64, 67, 0.3), 0px 1px 3px 1px rgba(60, 64, 67, 0.15);\n",
              "      fill: #174EA6;\n",
              "    }\n",
              "\n",
              "    .colab-df-buttons div {\n",
              "      margin-bottom: 4px;\n",
              "    }\n",
              "\n",
              "    [theme=dark] .colab-df-convert {\n",
              "      background-color: #3B4455;\n",
              "      fill: #D2E3FC;\n",
              "    }\n",
              "\n",
              "    [theme=dark] .colab-df-convert:hover {\n",
              "      background-color: #434B5C;\n",
              "      box-shadow: 0px 1px 3px 1px rgba(0, 0, 0, 0.15);\n",
              "      filter: drop-shadow(0px 1px 2px rgba(0, 0, 0, 0.3));\n",
              "      fill: #FFFFFF;\n",
              "    }\n",
              "  </style>\n",
              "\n",
              "    <script>\n",
              "      const buttonEl =\n",
              "        document.querySelector('#df-7fab8656-8021-491b-ade6-030e70138ac8 button.colab-df-convert');\n",
              "      buttonEl.style.display =\n",
              "        google.colab.kernel.accessAllowed ? 'block' : 'none';\n",
              "\n",
              "      async function convertToInteractive(key) {\n",
              "        const element = document.querySelector('#df-7fab8656-8021-491b-ade6-030e70138ac8');\n",
              "        const dataTable =\n",
              "          await google.colab.kernel.invokeFunction('convertToInteractive',\n",
              "                                                    [key], {});\n",
              "        if (!dataTable) return;\n",
              "\n",
              "        const docLinkHtml = 'Like what you see? Visit the ' +\n",
              "          '<a target=\"_blank\" href=https://colab.research.google.com/notebooks/data_table.ipynb>data table notebook</a>'\n",
              "          + ' to learn more about interactive tables.';\n",
              "        element.innerHTML = '';\n",
              "        dataTable['output_type'] = 'display_data';\n",
              "        await google.colab.output.renderOutput(dataTable, element);\n",
              "        const docLink = document.createElement('div');\n",
              "        docLink.innerHTML = docLinkHtml;\n",
              "        element.appendChild(docLink);\n",
              "      }\n",
              "    </script>\n",
              "  </div>\n",
              "\n",
              "\n",
              "<div id=\"df-5d380064-3f3d-4dde-bf75-ad849ac5bff8\">\n",
              "  <button class=\"colab-df-quickchart\" onclick=\"quickchart('df-5d380064-3f3d-4dde-bf75-ad849ac5bff8')\"\n",
              "            title=\"Suggest charts.\"\n",
              "            style=\"display:none;\">\n",
              "\n",
              "<svg xmlns=\"http://www.w3.org/2000/svg\" height=\"24px\"viewBox=\"0 0 24 24\"\n",
              "     width=\"24px\">\n",
              "    <g>\n",
              "        <path d=\"M19 3H5c-1.1 0-2 .9-2 2v14c0 1.1.9 2 2 2h14c1.1 0 2-.9 2-2V5c0-1.1-.9-2-2-2zM9 17H7v-7h2v7zm4 0h-2V7h2v10zm4 0h-2v-4h2v4z\"/>\n",
              "    </g>\n",
              "</svg>\n",
              "  </button>\n",
              "\n",
              "<style>\n",
              "  .colab-df-quickchart {\n",
              "      --bg-color: #E8F0FE;\n",
              "      --fill-color: #1967D2;\n",
              "      --hover-bg-color: #E2EBFA;\n",
              "      --hover-fill-color: #174EA6;\n",
              "      --disabled-fill-color: #AAA;\n",
              "      --disabled-bg-color: #DDD;\n",
              "  }\n",
              "\n",
              "  [theme=dark] .colab-df-quickchart {\n",
              "      --bg-color: #3B4455;\n",
              "      --fill-color: #D2E3FC;\n",
              "      --hover-bg-color: #434B5C;\n",
              "      --hover-fill-color: #FFFFFF;\n",
              "      --disabled-bg-color: #3B4455;\n",
              "      --disabled-fill-color: #666;\n",
              "  }\n",
              "\n",
              "  .colab-df-quickchart {\n",
              "    background-color: var(--bg-color);\n",
              "    border: none;\n",
              "    border-radius: 50%;\n",
              "    cursor: pointer;\n",
              "    display: none;\n",
              "    fill: var(--fill-color);\n",
              "    height: 32px;\n",
              "    padding: 0;\n",
              "    width: 32px;\n",
              "  }\n",
              "\n",
              "  .colab-df-quickchart:hover {\n",
              "    background-color: var(--hover-bg-color);\n",
              "    box-shadow: 0 1px 2px rgba(60, 64, 67, 0.3), 0 1px 3px 1px rgba(60, 64, 67, 0.15);\n",
              "    fill: var(--button-hover-fill-color);\n",
              "  }\n",
              "\n",
              "  .colab-df-quickchart-complete:disabled,\n",
              "  .colab-df-quickchart-complete:disabled:hover {\n",
              "    background-color: var(--disabled-bg-color);\n",
              "    fill: var(--disabled-fill-color);\n",
              "    box-shadow: none;\n",
              "  }\n",
              "\n",
              "  .colab-df-spinner {\n",
              "    border: 2px solid var(--fill-color);\n",
              "    border-color: transparent;\n",
              "    border-bottom-color: var(--fill-color);\n",
              "    animation:\n",
              "      spin 1s steps(1) infinite;\n",
              "  }\n",
              "\n",
              "  @keyframes spin {\n",
              "    0% {\n",
              "      border-color: transparent;\n",
              "      border-bottom-color: var(--fill-color);\n",
              "      border-left-color: var(--fill-color);\n",
              "    }\n",
              "    20% {\n",
              "      border-color: transparent;\n",
              "      border-left-color: var(--fill-color);\n",
              "      border-top-color: var(--fill-color);\n",
              "    }\n",
              "    30% {\n",
              "      border-color: transparent;\n",
              "      border-left-color: var(--fill-color);\n",
              "      border-top-color: var(--fill-color);\n",
              "      border-right-color: var(--fill-color);\n",
              "    }\n",
              "    40% {\n",
              "      border-color: transparent;\n",
              "      border-right-color: var(--fill-color);\n",
              "      border-top-color: var(--fill-color);\n",
              "    }\n",
              "    60% {\n",
              "      border-color: transparent;\n",
              "      border-right-color: var(--fill-color);\n",
              "    }\n",
              "    80% {\n",
              "      border-color: transparent;\n",
              "      border-right-color: var(--fill-color);\n",
              "      border-bottom-color: var(--fill-color);\n",
              "    }\n",
              "    90% {\n",
              "      border-color: transparent;\n",
              "      border-bottom-color: var(--fill-color);\n",
              "    }\n",
              "  }\n",
              "</style>\n",
              "\n",
              "  <script>\n",
              "    async function quickchart(key) {\n",
              "      const quickchartButtonEl =\n",
              "        document.querySelector('#' + key + ' button');\n",
              "      quickchartButtonEl.disabled = true;  // To prevent multiple clicks.\n",
              "      quickchartButtonEl.classList.add('colab-df-spinner');\n",
              "      try {\n",
              "        const charts = await google.colab.kernel.invokeFunction(\n",
              "            'suggestCharts', [key], {});\n",
              "      } catch (error) {\n",
              "        console.error('Error during call to suggestCharts:', error);\n",
              "      }\n",
              "      quickchartButtonEl.classList.remove('colab-df-spinner');\n",
              "      quickchartButtonEl.classList.add('colab-df-quickchart-complete');\n",
              "    }\n",
              "    (() => {\n",
              "      let quickchartButtonEl =\n",
              "        document.querySelector('#df-5d380064-3f3d-4dde-bf75-ad849ac5bff8 button');\n",
              "      quickchartButtonEl.style.display =\n",
              "        google.colab.kernel.accessAllowed ? 'block' : 'none';\n",
              "    })();\n",
              "  </script>\n",
              "</div>\n",
              "    </div>\n",
              "  </div>\n"
            ]
          },
          "metadata": {},
          "execution_count": 4
        }
      ]
    },
    {
      "cell_type": "code",
      "source": [
        "#Looking at top five values\n",
        "test_data.head()"
      ],
      "metadata": {
        "id": "p7-b26gnIOpm"
      },
      "execution_count": null,
      "outputs": []
    },
    {
      "cell_type": "code",
      "source": [
        "val_data.head()"
      ],
      "metadata": {
        "id": "gluen4gtIRA9"
      },
      "execution_count": null,
      "outputs": []
    },
    {
      "cell_type": "code",
      "source": [
        "#Checking the counts of different tags\n",
        "train_data['category'].value_counts()"
      ],
      "metadata": {
        "id": "ASNqSubrITHv"
      },
      "execution_count": null,
      "outputs": []
    },
    {
      "cell_type": "code",
      "source": [
        "val_data['category'].value_counts()"
      ],
      "metadata": {
        "id": "wWdeG963IW-D"
      },
      "execution_count": null,
      "outputs": []
    },
    {
      "cell_type": "code",
      "source": [
        "#Checking the count of comments\n",
        "test_data['text'].count()"
      ],
      "metadata": {
        "id": "yN8C9tnUJh40"
      },
      "execution_count": null,
      "outputs": []
    },
    {
      "cell_type": "code",
      "source": [
        "!pip install emoji\n",
        "import string\n",
        "from nltk.tokenize import word_tokenize\n",
        "import nltk\n",
        "nltk.download('punkt')\n",
        "nltk.download('wordnet')"
      ],
      "metadata": {
        "id": "mmjxk-OqJkBy"
      },
      "execution_count": null,
      "outputs": []
    },
    {
      "cell_type": "code",
      "source": [
        "import string\n",
        "import re\n",
        "import emoji\n",
        "\n",
        "# def remove_duplicate_emoji(orig_str):\n",
        "#     prev_emoji = None\n",
        "#     remove_duplicate_emoji = []\n",
        "#     for c in orig_str:\n",
        "#         if c in emoji.UNICODE_EMOJI_ENGLISH:\n",
        "#             if prev_emoji == c:\n",
        "#                 continue\n",
        "#             prev_emoji = c\n",
        "#         remove_duplicate_emoji.append(c)\n",
        "#     return \"\".join(remove_duplicate_emoji)\n",
        "\n",
        "#Demojizing\n",
        "def emoji_tagging(texts):\n",
        "  result=emoji.demojize(texts, delimiters=(\" \",\" \"))\n",
        "\n",
        "  return result\n",
        "\n",
        "#removing urls\n",
        "def remove_urls(texts):\n",
        "    url_remove = re.compile(r'https?://\\S+|www\\.\\S+')\n",
        "    return url_remove.sub(r'', texts)\n",
        "\n",
        "#removing htlm links\n",
        "def remove_html(texts):\n",
        "    html=re.compile(r'<.*?>')\n",
        "    return html.sub(r'',texts)\n",
        "\n",
        "#Number removal\n",
        "def remove_num(texts):\n",
        "    remove= re.sub(r'\\d+', '', texts)\n",
        "    return remove\n",
        "\n",
        "#removing punctuations\n",
        "def punct_remove(sentence):\n",
        "  s={'!', '\"', \"'\", '#', '$', '%', '&', '(', ')', '*', '+', ',', '-', '.', '/', ':', ';', '<', '=', '>', '?', '@', '[', ']', '^', '{', '|', '}', '~','..'}\n",
        "  sentence = word_tokenize(sentence)\n",
        "  filtered_word = []\n",
        "\n",
        "  for i in sentence:\n",
        "    letter=[]\n",
        "    for k in i:\n",
        "      if k not in s:\n",
        "        letter.append(k);\n",
        "    listTo= ''.join([str(elem) for elem in letter])\n",
        "    filtered_word.append(listTo)\n",
        "  listToStr = ' '.join([str(elem) for elem in filtered_word])\n",
        "  return(listToStr)\n",
        "\n",
        "#removing mentions\n",
        "def remove_mention(x):\n",
        "    texts=re.sub(r'@\\w+','',x)\n",
        "    return texts\n",
        "\n",
        "#remove underscore\n",
        "def underscore(x):\n",
        "  filteredText=re.sub('_', ' ',x)\n",
        "\n",
        "  return filteredText\n",
        "\n",
        "#Removing repeated characters\n",
        "#identical consecutive letters reduce them to max 2 consecutive occurrences of the same letters\n",
        "def remove_repeat(texts):\n",
        "    repeat_char = re.compile(r\"(.)\\1{1,}\", re.IGNORECASE)\n",
        "    texts = repeat_char.sub(r\"\\1\\1\", texts)\n",
        "    texts = re.sub(\"(.)\\\\1{2,}\", \"\\\\1\", texts)\n",
        "    return texts\n",
        "\n",
        "#stripping white spaces\n",
        "def strip(x):\n",
        "  texts=x.strip()\n",
        "  return texts\n",
        "\n",
        "#removing extra space\n",
        "def space(x):\n",
        "  texts=re.sub(' +',' ',x)\n",
        "  return (texts)"
      ],
      "metadata": {
        "id": "AuZoWqtzJvPw"
      },
      "execution_count": null,
      "outputs": []
    },
    {
      "cell_type": "code",
      "source": [
        "#Applying the functions to the train dataset\n",
        "%%time\n",
        "from tqdm.auto import tqdm\n",
        "train_data['clean_text']=[space(strip(punct_remove(underscore(remove_mention(remove_repeat(remove_num(remove_html(remove_urls(emoji_tagging(t)))))))))) for t in tqdm(train_data['Text'].values)]"
      ],
      "metadata": {
        "id": "jCy5EQoNJwFw"
      },
      "execution_count": null,
      "outputs": []
    },
    {
      "cell_type": "code",
      "source": [
        "#Applying the functions to the test dataset\n",
        "test_data['clean_text']=[space(strip(punct_remove(underscore(remove_mention(remove_repeat(remove_num(remove_html(remove_urls(emoji_tagging(t)))))))))) for t in tqdm(test_data['text'].values)]"
      ],
      "metadata": {
        "id": "LCikxM8iJ_xB"
      },
      "execution_count": null,
      "outputs": []
    },
    {
      "cell_type": "code",
      "source": [
        "#Applying the functions to the val dataset\n",
        "val_data['clean_text']=[space(strip(punct_remove(underscore(remove_mention(remove_repeat(remove_num(remove_html(remove_urls(emoji_tagging(t)))))))))) for t in tqdm(val_data['text'].values)]"
      ],
      "metadata": {
        "id": "5MuPENfLKCSO"
      },
      "execution_count": null,
      "outputs": []
    },
    {
      "cell_type": "code",
      "source": [
        "import re\n",
        "\n",
        "# Function for tokenization\n",
        "def tokenized(text_data):\n",
        "  tokens_text = re.split(' ',text_data)\n",
        "  return tokens_text\n"
      ],
      "metadata": {
        "id": "7YpFHps1KEvh"
      },
      "execution_count": null,
      "outputs": []
    },
    {
      "cell_type": "code",
      "source": [
        "#Applying the tokenization function\n",
        "train_data['tokenized_text']=[tokenized(t) for t in tqdm(train_data['clean_text'].values)]\n",
        "train_data.head()"
      ],
      "metadata": {
        "id": "p5CvMusrKonm"
      },
      "execution_count": null,
      "outputs": []
    },
    {
      "cell_type": "code",
      "source": [
        "test_data['tokenized_text']=[tokenized(t) for t in tqdm(test_data['clean_text'].values)]\n",
        "test_data.head()"
      ],
      "metadata": {
        "id": "RLbHKzWrKuiv"
      },
      "execution_count": null,
      "outputs": []
    },
    {
      "cell_type": "code",
      "source": [
        "val_data['tokenized_text']=[tokenized(t) for t in tqdm(val_data['clean_text'].values)]\n",
        "val_data.head()"
      ],
      "metadata": {
        "id": "w7U0w6G7KvmF"
      },
      "execution_count": null,
      "outputs": []
    },
    {
      "cell_type": "code",
      "source": [
        "#Saving the preprocessed file\n",
        "train_data.to_csv('Kan_Train_Dataset_1.csv')"
      ],
      "metadata": {
        "id": "3Q1e-sMbKxyS"
      },
      "execution_count": null,
      "outputs": []
    },
    {
      "cell_type": "code",
      "source": [
        "test_data.to_csv('Kan_Test_Dataset_1.csv')"
      ],
      "metadata": {
        "id": "v0s9cgBpK3O0"
      },
      "execution_count": null,
      "outputs": []
    },
    {
      "cell_type": "code",
      "source": [
        "val_data.to_csv('Kan_Dev_Dataset_1.csv')"
      ],
      "metadata": {
        "id": "zeodaojMK5bY"
      },
      "execution_count": null,
      "outputs": []
    }
  ]
}