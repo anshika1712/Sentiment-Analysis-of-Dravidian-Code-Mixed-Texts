{
  "nbformat": 4,
  "nbformat_minor": 0,
  "metadata": {
    "colab": {
      "provenance": [],
      "authorship_tag": "ABX9TyN1Zi+ZSv4O18OzoHpaHC1p",
      "include_colab_link": true
    },
    "kernelspec": {
      "name": "python3",
      "display_name": "Python 3"
    },
    "language_info": {
      "name": "python"
    }
  },
  "cells": [
    {
      "cell_type": "markdown",
      "metadata": {
        "id": "view-in-github",
        "colab_type": "text"
      },
      "source": [
        "<a href=\"https://colab.research.google.com/github/anshika1712/Sentiment-Analysis-of-Dravidian-Code-Mixed-Texts/blob/main/Lang_vs_NotLang.ipynb\" target=\"_parent\"><img src=\"https://colab.research.google.com/assets/colab-badge.svg\" alt=\"Open In Colab\"/></a>"
      ]
    },
    {
      "cell_type": "code",
      "execution_count": null,
      "metadata": {
        "id": "NxhE7i0P1D03"
      },
      "outputs": [],
      "source": [
        "#Importing Libraries\n",
        "import pandas as pd\n",
        "import numpy as np"
      ]
    },
    {
      "cell_type": "code",
      "source": [
        "#Reading the train dataset\n",
        "train_data=pd.read_csv('/content/correct_Mal_train.csv')\n",
        "#Reading the test dataset\n",
        "test_data=pd.read_csv('/content/correct_Tam_testwithlabels.csv')\n",
        "#Reading the val dataset\n",
        "val_data=pd.read_csv('/content/correct_Kan_val.csv')"
      ],
      "metadata": {
        "id": "MuP5C6r27jY-"
      },
      "execution_count": null,
      "outputs": []
    },
    {
      "cell_type": "code",
      "source": [
        "#to check top five rows of the data\n",
        "train_data.head()"
      ],
      "metadata": {
        "id": "2M_Ce7x07lsH"
      },
      "execution_count": null,
      "outputs": []
    },
    {
      "cell_type": "code",
      "source": [
        "#to check the dimensions of the data\n",
        "train_data.shape"
      ],
      "metadata": {
        "id": "QvfvUlPr7nw8"
      },
      "execution_count": null,
      "outputs": []
    },
    {
      "cell_type": "code",
      "source": [
        "#to correct the format of the LID values..just run this cell\n",
        "train_data['LID list']=train_data['LID list'].apply(eval)\n",
        "test_data['LID list']=test_data['LID list'].apply(eval)\n",
        "val_data['LID list']=val_data['LID list'].apply(eval)"
      ],
      "metadata": {
        "id": "KlBLznw58KIK"
      },
      "execution_count": null,
      "outputs": []
    },
    {
      "cell_type": "code",
      "source": [
        "#function to classify comments into lang or not lang\n",
        "#variation between lang+unknown and only lang\n",
        "def checking(sen):\n",
        "  for words in sen:\n",
        "    if words[1] == 'ta' or words[1] == 'Unknown':\n",
        "    #if words[1] == 'ml':\n",
        "      return 'tamil'\n",
        "    else:\n",
        "      continue\n",
        "  return 'not-tamil'"
      ],
      "metadata": {
        "id": "n1lOGRVG7pyA"
      },
      "execution_count": null,
      "outputs": []
    },
    {
      "cell_type": "code",
      "source": [
        "# Apply the function to the train dataset\n",
        "%%time\n",
        "from tqdm.auto import tqdm\n",
        "train_data['check']=[checking(t) for t in tqdm(train_data['LID list'].values)]\n",
        "train_data.head()"
      ],
      "metadata": {
        "id": "6tZWw5IV8BW5"
      },
      "execution_count": null,
      "outputs": []
    },
    {
      "cell_type": "code",
      "source": [
        "# Apply the function to the test dataset\n",
        "%%time\n",
        "from tqdm.auto import tqdm\n",
        "test_data['check']=[checking(t) for t in tqdm(test_data['LID list'].values)]\n",
        "test_data.head()"
      ],
      "metadata": {
        "id": "PdBtkbh-8RMf"
      },
      "execution_count": null,
      "outputs": []
    },
    {
      "cell_type": "code",
      "source": [
        "# Apply the function to the val dataset\n",
        "%%time\n",
        "from tqdm.auto import tqdm\n",
        "val_data['check']=[checking(t) for t in tqdm(val_data['LID list'].values)]\n",
        "val_data.head()"
      ],
      "metadata": {
        "id": "7uwKScbj8iG9"
      },
      "execution_count": null,
      "outputs": []
    },
    {
      "cell_type": "code",
      "source": [
        "#to check the number of lang and not lang values\n",
        "train_data.check.value_counts()"
      ],
      "metadata": {
        "id": "YbCxerBV9NJM"
      },
      "execution_count": null,
      "outputs": []
    },
    {
      "cell_type": "code",
      "source": [
        "#to check the value counts of different category in the dataset\n",
        "train_data.category.value_counts()"
      ],
      "metadata": {
        "id": "MXbb1WUj-SuR"
      },
      "execution_count": null,
      "outputs": []
    },
    {
      "cell_type": "code",
      "source": [
        "#to save the lang data from training dataset as a csv file\n",
        "yes=train_data.loc[train_data['check']=='Kannada']\n",
        "yes.to_csv('Kan_checktrain.csv')"
      ],
      "metadata": {
        "id": "bOZlg1b7-s4f"
      },
      "execution_count": null,
      "outputs": []
    },
    {
      "cell_type": "code",
      "source": [
        "#to save the not lang data from the training dataset as a csv file\n",
        "no=train_data.loc[train_data['check']=='not-Kannada']\n",
        "no.to_csv('notKan_checktrain.csv')"
      ],
      "metadata": {
        "id": "CeMmyvFa-wVn"
      },
      "execution_count": null,
      "outputs": []
    },
    {
      "cell_type": "code",
      "source": [
        "#save the train dataset file in a csv format\n",
        "train_data.to_csv('KanorNot_train.csv')"
      ],
      "metadata": {
        "id": "AkwszUoh-zR4"
      },
      "execution_count": null,
      "outputs": []
    },
    {
      "cell_type": "code",
      "source": [
        "#to save the lang data from testing dataset as a csv file\n",
        "yes2=test_data.loc[test_data['check']=='tamil']\n",
        "yes2.to_csv('Kan_checktest.csv')"
      ],
      "metadata": {
        "id": "_L59E3bI-3k5"
      },
      "execution_count": null,
      "outputs": []
    },
    {
      "cell_type": "code",
      "source": [
        "#to save the not lang data from the testing dataset as a csv file\n",
        "no2=test_data.loc[test_data['check']=='not-tamil']\n",
        "no2.to_csv('notKan_checktest.csv')"
      ],
      "metadata": {
        "id": "iAg1l4_f--SU"
      },
      "execution_count": null,
      "outputs": []
    },
    {
      "cell_type": "code",
      "source": [
        "#save the test dataset file in a csv format\n",
        "test_data.to_csv('KanorNot_test.csv')"
      ],
      "metadata": {
        "id": "h5nKcoj-_AmE"
      },
      "execution_count": null,
      "outputs": []
    },
    {
      "cell_type": "code",
      "source": [
        "#to save the lang data from validation dataset as a csv file\n",
        "yes3=val_data.loc[val_data['check']=='Kannada']\n",
        "yes3.to_csv('Kan_checkval.csv')"
      ],
      "metadata": {
        "id": "GSh8aSzv_D8i"
      },
      "execution_count": null,
      "outputs": []
    },
    {
      "cell_type": "code",
      "source": [
        "#to save the not lang data from validation dataset as a csv file\n",
        "no3=val_data.loc[val_data['check']=='not-Kannada']\n",
        "no3.to_csv('notKan_checkval.csv')"
      ],
      "metadata": {
        "id": "uJc00YzM_G1Q"
      },
      "execution_count": null,
      "outputs": []
    },
    {
      "cell_type": "code",
      "source": [
        "#save the val dataset file in a csv format\n",
        "val_data.to_csv('KanorNot_val.csv')"
      ],
      "metadata": {
        "id": "OZ49mJLA_JHR"
      },
      "execution_count": null,
      "outputs": []
    }
  ]
}